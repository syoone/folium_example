{
  "nbformat": 4,
  "nbformat_minor": 0,
  "metadata": {
    "colab": {
      "name": "folium_example.ipynb",
      "private_outputs": true,
      "provenance": [],
      "toc_visible": true,
      "authorship_tag": "ABX9TyM+zAI/Av80cDS1tdUBqJdo",
      "include_colab_link": true
    },
    "kernelspec": {
      "name": "python3",
      "display_name": "Python 3"
    },
    "language_info": {
      "name": "python"
    }
  },
  "cells": [
    {
      "cell_type": "markdown",
      "metadata": {
        "id": "view-in-github",
        "colab_type": "text"
      },
      "source": [
        "<a href=\"https://colab.research.google.com/github/syoone/folium_example/blob/main/folium_example.ipynb\" target=\"_parent\"><img src=\"https://colab.research.google.com/assets/colab-badge.svg\" alt=\"Open In Colab\"/></a>"
      ]
    },
    {
      "cell_type": "code",
      "metadata": {
        "id": "O8RkEARSLKdD"
      },
      "source": [
        "import os\n",
        "print(os.getcwd())\n",
        "!ls\n",
        "\n",
        "# 실행시 등장하는 URL을 클릭하여 허용해주면 인증KEY가 나타난다. 복사하여 URL아래 빈칸에 붙여넣으면 마운트에 성공하게된다.\n",
        "from google.colab import drive\n",
        "drive.mount('./MyDrive')"
      ],
      "execution_count": null,
      "outputs": []
    },
    {
      "cell_type": "code",
      "metadata": {
        "id": "zqRvRXxgLWIg"
      },
      "source": [
        "cd MyDrive/MyDrive"
      ],
      "execution_count": null,
      "outputs": []
    },
    {
      "cell_type": "code",
      "metadata": {
        "id": "jdfH8AOIKflV"
      },
      "source": [
        "import numpy as np # NumPy is the fundamental package for scientific computing\n",
        "\n",
        "import pandas as pd # Pandas is an easy-to-use data structures and data analysis tools\n",
        "pd.set_option('display.max_columns', None) # To display all columns\n",
        "\n",
        "import matplotlib.pyplot as plt # Matplotlib is a python 2D plotting library\n",
        "%matplotlib inline \n",
        "# A magic command that tells matplotlib to render figures as static images in the Notebook.\n",
        "\n",
        "import seaborn as sns # Seaborn is a visualization library based on matplotlib (attractive statistical graphics).\n",
        "sns.set_style('whitegrid') # One of the five seaborn themes\n",
        "import warnings\n",
        "warnings.filterwarnings('ignore') # To ignore some of seaborn warning msg\n",
        "\n",
        "from scipy import stats, linalg\n",
        "\n",
        "from matplotlib import rcParams\n",
        "import scipy.stats as st\n",
        "\n",
        "import folium # for map visualization\n",
        "from folium import plugins"
      ],
      "execution_count": null,
      "outputs": []
    },
    {
      "cell_type": "code",
      "metadata": {
        "id": "QV4jN9RgKipT"
      },
      "source": [
        "train = pd.read_csv(\"./dataset/train.csv\", parse_dates=['date'])\n",
        "test = pd.read_csv(\"./dataset/test.csv\", parse_dates=['date'])"
      ],
      "execution_count": null,
      "outputs": []
    },
    {
      "cell_type": "code",
      "metadata": {
        "id": "G8ACAiAhME8D"
      },
      "source": [
        "# Why are the following features converted to category type?\n",
        "train['waterfront'] = train['waterfront'].astype('category') #,ordered=True)\n",
        "train['view'] = train['view'].astype('category') #,ordered=True)\n",
        "train['condition'] = train['condition'].astype('category') #,ordered=True)\n",
        "train['grade'] = train['grade'].astype('category') #,ordered=False) # Why are these ordered 'False'?\n",
        "train['zipcode'] = train['zipcode'].astype(str)\n",
        "train.head(2) # Show the first 2 lines"
      ],
      "execution_count": null,
      "outputs": []
    },
    {
      "cell_type": "code",
      "metadata": {
        "id": "TJbAX_dJMJlg"
      },
      "source": [
        "print(train.shape)\n",
        "print(train.nunique())"
      ],
      "execution_count": null,
      "outputs": []
    },
    {
      "cell_type": "code",
      "metadata": {
        "id": "EQXgRl8rMVYf"
      },
      "source": [
        "print(train.info())"
      ],
      "execution_count": null,
      "outputs": []
    },
    {
      "cell_type": "code",
      "metadata": {
        "id": "JQ8iASegMY72"
      },
      "source": [
        "# Knowing the Price variable\n",
        "f, ax = plt.subplots(1, 2, figsize = (14, 6))\n",
        "sns.distplot(train['price'], ax=ax[0])\n",
        "ax[0].set_title('Price Distribution')\n",
        "plt.xlim()\n",
        "\n",
        "sns.scatterplot(range(train.shape[0]), train['price'].sort_values(), ax=ax[1], marker=\"x\")\n",
        "ax[1].set_title('Price Curve Distribution', fontsize=15)\n",
        "\n",
        "plt.show()"
      ],
      "execution_count": null,
      "outputs": []
    },
    {
      "cell_type": "code",
      "metadata": {
        "id": "xMSQ7RXXMcT2"
      },
      "source": [
        "price_des = train.describe()['price']\n",
        "price_des.astype('int')"
      ],
      "execution_count": null,
      "outputs": []
    },
    {
      "cell_type": "markdown",
      "metadata": {
        "id": "sNZybWyUMiF3"
      },
      "source": [
        "### 타겟인 가격 데이터의 값은 한쪽으로 많이 치우쳐저 있네요\n",
        "\n",
        "## Map visualization"
      ]
    },
    {
      "cell_type": "code",
      "metadata": {
        "id": "VraNaLecMgh_"
      },
      "source": [
        "houses_map = folium.Map(location = [train['lat'].mean(), train['long'].mean()], zoom_start = 10)\n",
        "lat_long_data = train[['lat', 'long']].values.tolist()\n",
        "h_cluster = folium.plugins.FastMarkerCluster(lat_long_data).add_to(houses_map)\n",
        "\n",
        "houses_map"
      ],
      "execution_count": null,
      "outputs": []
    },
    {
      "cell_type": "markdown",
      "metadata": {
        "id": "xE5-bbPCM1r0"
      },
      "source": [
        "### 첫번째로 lat, long 데이터를 이용해서 실제 지도에 몇개씩 분포해 있는지 MarkerCluster로 표현했습니다. 이렇게 MarkerClouster로 표현하게 되면 쉽게 분포를 확인할 수 있습니다."
      ]
    },
    {
      "cell_type": "code",
      "metadata": {
        "id": "uMlUY-x1MwXO"
      },
      "source": [
        "houses_heatmap = folium.Map(location = [train['lat'].mean(), train['long'].mean()], zoom_start=9)\n",
        "houses_heatmap.add_children(plugins.HeatMap([[row['lat'], row['long']] for name, row in train.iterrows()]))\n",
        "houses_heatmap"
      ],
      "execution_count": null,
      "outputs": []
    },
    {
      "cell_type": "markdown",
      "metadata": {
        "id": "hjVxW-gHNSfB"
      },
      "source": [
        "#### 두번째로 heatmap으로 표현해볼 수 있습니다. heatmap은 위의 MarkerCluster와 유사한데 단지 형태를 그라데이션으로 표현한 것 뿐입니다.\n",
        "\n",
        "#### 하지만, Heatmap과 MarkerCluster 로는 집의 분포는 쉽게 확인할 수 있으나, 각 Feature별 분포를 확인하기 위해서는 (예를 들어, 영역별로 집값의 분포, 평방미터의 분포 등) 다른 방법을 사용해야 합니다.\n",
        "\n",
        "#### 일단 먼저 zipcode를 활용해서 지도에 각 영역을 표시한 다음에 그 zipcode에 해당하는 데이터의 feature 정보를 지도에 표현해봤습니다.\n",
        "\n",
        "#### https://github.com/harlfoxem/House_Price_Prediction/blob/master/zipcode_king_county.geojson\n",
        "\n",
        "#### 위 사이트에서 zipcode에 따른 영역 표시 파일(geojson)을 가져올 수 있습니다. 제가 이미 이 커널에 추가해 놓았으니 그대로 따라하시면 됩니다. geojson 파일은 위 사이트를 들어가보시면 알 수 있듯이 데이터 내부에 있는 zipcode에 따라 folium 지도에 영역을 표시해 놓은 것입니다.\n"
      ]
    },
    {
      "cell_type": "code",
      "metadata": {
        "id": "p-kH_4LXNPWh"
      },
      "source": [
        "zipcode_data = train.groupby('zipcode').aggregate(np.mean)"
      ],
      "execution_count": null,
      "outputs": []
    },
    {
      "cell_type": "code",
      "metadata": {
        "id": "AsfdeIPWNjZz"
      },
      "source": [
        "zipcode_data.reset_index(inplace=True)"
      ],
      "execution_count": null,
      "outputs": []
    },
    {
      "cell_type": "code",
      "metadata": {
        "id": "CmMuHED2NnTy"
      },
      "source": [
        "train['count'] = 1\n",
        "count_house_zipcode = train.groupby('zipcode').sum()\n",
        "count_house_zipcode.reset_index(inplace=True)\n",
        "count_house_zipcode = count_house_zipcode[['zipcode', 'count']]\n",
        "train.drop(['count'], axis = 1, inplace=True)"
      ],
      "execution_count": null,
      "outputs": []
    },
    {
      "cell_type": "code",
      "metadata": {
        "id": "9_ME8Fc_Npsv"
      },
      "source": [
        "zipcode_data = zipcode_data.join(count_house_zipcode.set_index('zipcode'), on='zipcode')"
      ],
      "execution_count": null,
      "outputs": []
    },
    {
      "cell_type": "code",
      "metadata": {
        "id": "WLxt0Z46NsR4"
      },
      "source": [
        "zipcode_data.head()"
      ],
      "execution_count": null,
      "outputs": []
    },
    {
      "cell_type": "code",
      "metadata": {
        "id": "TZcyqENgNuJb"
      },
      "source": [
        "def show_zipcode_map(col, bins):\n",
        "    geo_path = './dataset/zipcode_king_county.geojson'\n",
        "    zipcode = folium.Map(location=[train['lat'].mean(), train['long'].mean()], zoom_start=9)\n",
        "    zipcode.choropleth(\n",
        "        geo_data=geo_path, \n",
        "        data=zipcode_data, \n",
        "        columns=['zipcode', col],\n",
        "        key_on='feature.properties.ZCTA5CE10',\n",
        "        fill_color='OrRd',\n",
        "        fill_opacity=0.6, \n",
        "        line_opacity=0.2,\n",
        "        bins=bins) # bins로 조절!\n",
        "#     zipcode.save(col + '.html')\n",
        "    return zipcode"
      ],
      "execution_count": null,
      "outputs": []
    },
    {
      "cell_type": "code",
      "metadata": {
        "id": "qj816D9LNx6F"
      },
      "source": [
        "show_zipcode_map('count', 9)"
      ],
      "execution_count": null,
      "outputs": []
    },
    {
      "cell_type": "markdown",
      "metadata": {
        "id": "WVeCdqvMPfDC"
      },
      "source": [
        "#### 위 지도는 Marker 지도, HeatMap 과 같은 count map 입니다. zipcode 별로 나눠서 보니 뭔가 더 확실히 보이는거 같아요! 이제 몇몇 feature 별로 확인해봅시다.\n",
        "\n",
        "#### feature 설명입니다. ( https://www.kaggle.com/c/2019-2nd-ml-month-with-kakr/data)\n",
        "\n",
        "### Price\n",
        "\n",
        "#### 먼저 각 zipcode별로 가격 분포를 확인해보겠습니다. 각 zipcode 별로 해당 feature의 평균값이 맵에 출력됩니다."
      ]
    },
    {
      "cell_type": "code",
      "metadata": {
        "id": "KG7It2ZKN0JV"
      },
      "source": [
        "show_zipcode_map('price', 7)"
      ],
      "execution_count": null,
      "outputs": []
    },
    {
      "cell_type": "markdown",
      "metadata": {
        "id": "HCWtUD0hP9kf"
      },
      "source": [
        "\"\"\"\n",
        "지도 zipcode 섹션 별로, 타겟(price)의 분포를 한눈에 알 수 있습니다. 자세히 보니 Seatle 바로 오른쪽이 유난히 값이 비싼 것을 알 수 있네요!\n",
        "\n",
        "찾아보니.. 뉴스기사\n",
        "\n",
        "시애틀 동쪽이 유난히 부자들이 사나봐요.. 우리나라 강남같이..?\n",
        "\n",
        "\n",
        "sqft_living, sqft_living15, sqft_lot, sqft_lot15\n",
        "\n",
        "주거공간의 평방미터와 부지(땅)의 평방피트를 의미합니다.\n",
        "위 feature와 sqft_lot(부지의 평방미터)와의 차이는 아마 집앞 마당의 유무와, 크기의 차이가 아닐까 생각합니다.\n",
        "(매우 중요한 feature로 사용될 수 있을거 같아요!)\n",
        "\"\"\""
      ]
    },
    {
      "cell_type": "code",
      "metadata": {
        "id": "_AoikqOOPyaZ"
      },
      "source": [
        "show_zipcode_map('sqft_lot', 9)"
      ],
      "execution_count": null,
      "outputs": []
    },
    {
      "cell_type": "code",
      "metadata": {
        "id": "G01vORlnQQOn"
      },
      "source": [
        "show_zipcode_map('sqft_lot15', 9)"
      ],
      "execution_count": null,
      "outputs": []
    },
    {
      "cell_type": "code",
      "metadata": {
        "id": "_sakiHbpQTMs"
      },
      "source": [
        "show_zipcode_map('sqft_living', 9)"
      ],
      "execution_count": null,
      "outputs": []
    },
    {
      "cell_type": "code",
      "metadata": {
        "id": "g8pMbu1oQV0J"
      },
      "source": [
        "show_zipcode_map('sqft_living15', 9)"
      ],
      "execution_count": null,
      "outputs": []
    },
    {
      "cell_type": "markdown",
      "metadata": {
        "id": "k7K1i7CeQakZ"
      },
      "source": [
        "\"\"\"\n",
        "sqft_living(15), sqft_lot(15) 총 4가지 feature를 확인해보면 맵 분포는 비슷한데 스케일링의 차이가 있는거 같습니다. 마치 15feature가 반대 피쳐에 비해 다운스케일링 된거 같은 느낌이 드는데요. 이것만 가지고는 확신할 수 없으니 더 알아보도록하죠.\n",
        "\"\"\""
      ]
    },
    {
      "cell_type": "code",
      "metadata": {
        "id": "ak-wEDpGQYP5"
      },
      "source": [
        "plt.figure(figsize=(12,6))\n",
        "sns.distplot(np.log(train['sqft_lot']), hist=False, color='r', label='lot')\n",
        "sns.distplot(np.log(train['sqft_lot15']), hist=False, color='b', label='lot15')\n",
        "plt.show()"
      ],
      "execution_count": null,
      "outputs": []
    },
    {
      "cell_type": "markdown",
      "metadata": {
        "id": "XJeFWr8gQjA7"
      },
      "source": [
        "\"\"\"\n",
        "sqft_lot, sqft_lot15 feature의 경우 너무 편향이 심해서 log화 한 후 그래프로 나타내봤습니다. 편향이 심하다는 것은 분포를 벗어난 아웃라이어가 많다는 이야기입니다. 뭔가 스케일링 된 증거는 찾을 수 없고 비교적 비슷한 분포를 그리고 있네요.\n",
        "\"\"\""
      ]
    },
    {
      "cell_type": "code",
      "metadata": {
        "id": "ac3ZlLy1QgRN"
      },
      "source": [
        "plt.figure(figsize=(12,6))\n",
        "sns.distplot((train['sqft_living']), hist=False, color='r', label='living')\n",
        "sns.distplot((train['sqft_living15']), hist=False, color='b', label='living15')\n",
        "plt.show()"
      ],
      "execution_count": null,
      "outputs": []
    },
    {
      "cell_type": "markdown",
      "metadata": {
        "id": "Xccv7GbCQqJl"
      },
      "source": [
        "\"\"\"\n",
        "sqft_living도 마찬가지네요. 1500 값이 living15가 living에 비해 50프로 정도 많이 분포해 있네요. 그리고, 빨간색 선(living)을 보니 lot feature와 마찬가지로 아웃라이어가 분포하고 있는 모양입니다.\n",
        "\"\"\""
      ]
    },
    {
      "cell_type": "code",
      "metadata": {
        "id": "AToHKKuRQnQX"
      },
      "source": [
        "plt.figure(figsize=(12,6))\n",
        "sns.scatterplot(x=train.index, y='sqft_lot', data=train, color='r', label='lot')\n",
        "sns.scatterplot(x=train.index, y='sqft_lot15', data=train, color='b', label='lot15')\n",
        "plt.show()"
      ],
      "execution_count": null,
      "outputs": []
    },
    {
      "cell_type": "code",
      "metadata": {
        "id": "RghyzBqqQujL"
      },
      "source": [
        "plt.figure(figsize=(12,6))\n",
        "sns.scatterplot(x=train.index, y=train['sqft_living'], color='r', label='living')\n",
        "sns.scatterplot(x=train.index, y=train['sqft_living15'], color='b', label='living15')\n",
        "plt.show()"
      ],
      "execution_count": null,
      "outputs": []
    },
    {
      "cell_type": "markdown",
      "metadata": {
        "id": "3tBBK8noQzeK"
      },
      "source": [
        "\"\"\"\n",
        "스캐터 플랏을보니 lot, living 피쳐의 값의 범위가 15값에 비해 넓게 분포해 있는거 같습니다.\n",
        "뭔가 15값은 밀집되어 있는 듯한 느낌인 반면에, living, lot 피쳐는 좀 튀는 느낌이랄까요?\n",
        "\"\"\""
      ]
    },
    {
      "cell_type": "code",
      "metadata": {
        "id": "Kf1JUCstQxRt"
      },
      "source": [
        "round(train.describe()[['sqft_living', 'sqft_living15', 'sqft_lot', 'sqft_lot15']], 0)"
      ],
      "execution_count": null,
      "outputs": []
    },
    {
      "cell_type": "markdown",
      "metadata": {
        "id": "q1anjI9mQ8QS"
      },
      "source": [
        "\"\"\"\n",
        "해당 피쳐 Describe를 살펴보니 역시 std에서 15 피쳐들이 작습니다. 마치 정리된 듯한 느낌이에요.\n",
        "그리고, 이 Describe에서 가장 튀는 값이 하나 있네요. 바로 Max값잆니다.\n",
        "\"\"\""
      ]
    },
    {
      "cell_type": "code",
      "metadata": {
        "id": "WsHqqTEeQ5Jx"
      },
      "source": [
        "round(train.describe().loc[['75%', 'max'], ['sqft_living', 'sqft_living15', 'sqft_lot', 'sqft_lot15']], 0)"
      ],
      "execution_count": null,
      "outputs": []
    },
    {
      "cell_type": "markdown",
      "metadata": {
        "id": "55yf7DafRCSU"
      },
      "source": [
        "#### 와.. 몇배나 큰 집인거죠..? 상당히 큰 아웃라이어가 보입니다."
      ]
    },
    {
      "cell_type": "code",
      "metadata": {
        "id": "eSibZi7mRAzx"
      },
      "source": [
        "plt.figure(figsize=(12,6))\n",
        "sns.boxplot(data=train[['sqft_living', 'sqft_living15']], orient='h')\n",
        "plt.show()"
      ],
      "execution_count": null,
      "outputs": []
    },
    {
      "cell_type": "code",
      "metadata": {
        "id": "sLYiQb2kRHb6"
      },
      "source": [
        "plt.figure(figsize=(18,6))\n",
        "sns.boxplot(data=np.log(train[['sqft_lot', 'sqft_lot15']]), orient='h')\n",
        "plt.show()"
      ],
      "execution_count": null,
      "outputs": []
    },
    {
      "cell_type": "markdown",
      "metadata": {
        "id": "7N6bE2iSRLue"
      },
      "source": [
        "\"\"\"\n",
        "Boxplot은 그래프를 통해 지금까지 알아봤던 분포, 표준편차, 평균, 아웃라이어를 한눈에 알아볼 수 있습니다. (lot 피쳐는 로그를 취했다는 점 주의하세요!)\n",
        "이 아웃라이어를 어떻게 처리하냐에 따라 모델의 성능이 많이 달라질것 같습니다.\n",
        "\"\"\""
      ]
    },
    {
      "cell_type": "markdown",
      "metadata": {
        "id": "JXv4hKeVXIBa"
      },
      "source": [
        "# [Python] 지도 데이터 시각화 - Folium 기초 실습하기"
      ]
    },
    {
      "cell_type": "code",
      "metadata": {
        "id": "XLNUA3uiRKsI"
      },
      "source": [
        "from pandas import DataFrame\n",
        "\n",
        "#예제 데이터 만들기\n",
        "\n",
        "ex = {'경도' : [127.061026,127.047883,127.899220,128.980455,127.104071,127.102490,127.088387,126.809957,127.010861,126.836078\n",
        "                ,127.014217,126.886859,127.031702,126.880898,127.028726,126.897710,126.910288,127.043189,127.071184,127.076812\n",
        "                ,127.045022,126.982419,126.840285,127.115873,126.885320,127.078464,127.057100,127.020945,129.068324,129.059574\n",
        "                ,126.927655,127.034302,129.106330,126.980242,126.945099,129.034599,127.054649,127.019556,127.053198,127.031005\n",
        "                ,127.058560,127.078519,127.056141,129.034605,126.888485,129.070117,127.057746,126.929288,127.054163,129.060972],\n",
        "     '위도' : [37.493922,37.505675,37.471711,35.159774,37.500249,37.515149,37.549245,37.562013,37.552153,37.538927,37.492388\n",
        "              ,37.480390,37.588485,37.504067,37.608392,37.503693,37.579029,37.580073,37.552103,37.545461,37.580196,37.562274\n",
        "              ,37.535419,37.527477,37.526139,37.648247,37.512939,37.517574,35.202902,35.144776,37.499229,35.150069,35.141176\n",
        "              ,37.479403,37.512569,35.123196,37.546718,37.553668,37.488742,37.493653,37.498462,37.556602,37.544180,35.111532\n",
        "              ,37.508058,35.085777,37.546103,37.483899,37.489299,35.143421],\n",
        "     '구분' : ['음식','음식','음식','음식','생활서비스','음식','음식','음식','음식','음식','음식','음식','음식','음식','음식'\n",
        "             ,'음식','음식','소매','음식','음식','음식','음식','소매','음식','소매','음식','음식','음식','음식','음식','음식'\n",
        "             ,'음식','음식','음식','음식','소매','음식','음식','의료','음식','음식','음식','소매','음식','음식','음식','음식'\n",
        "             ,'음식','음식','음식']}\n",
        "\n",
        "ex=DataFrame(ex)\n",
        "ex.head()"
      ],
      "execution_count": null,
      "outputs": []
    },
    {
      "cell_type": "markdown",
      "metadata": {
        "id": "yhZjAz4qW-6J"
      },
      "source": [
        "### Folium 라이브러리를 import하고 지도 띄우기"
      ]
    },
    {
      "cell_type": "code",
      "metadata": {
        "id": "Kb3vorlDW5ZN"
      },
      "source": [
        "import folium\n",
        "\n",
        "#지도의 중심을 지정하기 위해 위도와 경도의 평균 구하기\n",
        "lat = ex['위도'].mean()\n",
        "long = ex['경도'].mean()\n",
        "\n",
        "#지도 띄우기\n",
        "m = folium.Map([lat,long],zoom_start=9)\n",
        "m"
      ],
      "execution_count": null,
      "outputs": []
    },
    {
      "cell_type": "markdown",
      "metadata": {
        "id": "6gPz26dFXfzc"
      },
      "source": [
        "#### 이제 지도 위에 데이터들을 표시해봅니다.\n",
        "Folium 버전 문제로 한글 폰트가 jupyter 결과창에 안나오는데 이걸 해결하기 위해 html 파일로 저장시켜줍니다."
      ]
    },
    {
      "cell_type": "markdown",
      "metadata": {
        "id": "XlirIPwWX14u"
      },
      "source": [
        "#### example.html 파일을 열어주면 데이터들이 찍혀있는 것을 확인할 수 있습니다."
      ]
    },
    {
      "cell_type": "code",
      "metadata": {
        "id": "Jb_c56jAXj9X"
      },
      "source": [
        "for i in ex.index:\n",
        "    sub_lat =  ex.loc[i,'위도']\n",
        "    sub_long = ex.loc[i,'경도']\n",
        "    \n",
        "    title = ex.loc[i,'구분']\n",
        "    \n",
        "    #지도에 데이터 찍어서 보여주기\n",
        "    folium.Marker([sub_lat,sub_long],tooltip = title).add_to(m)\n",
        "\n",
        "#한글이 안나오는 오류로 html로 trouble shooting \n",
        "m.save('example.html')\n",
        "m"
      ],
      "execution_count": null,
      "outputs": []
    },
    {
      "cell_type": "markdown",
      "metadata": {
        "id": "4kKvdQkBX9qA"
      },
      "source": [
        "#### 찍히는 마커 모양을 다르게 변형할 수도 있습니다.\n",
        "동그라미 모양으로 데이터를 표시하고 싶을 때는 CircleMarker을 사용합니다."
      ]
    },
    {
      "cell_type": "code",
      "metadata": {
        "id": "A_fb6edXW8VY"
      },
      "source": [
        "#지도 새로 띄우기\n",
        "m = folium.Map([lat,long],zoom_start=9)\n",
        "\n",
        "for i in ex.index:\n",
        "    sub_lat =  ex.loc[i,'위도']\n",
        "    sub_long = ex.loc[i,'경도']\n",
        "    \n",
        "    title = ex.loc[i,'구분']\n",
        "  \n",
        "    #구분이 소매면 빨간색으로 표시, default는 녹색\n",
        "    \n",
        "    color = 'green'\n",
        "    if ex.loc[i,'구분'] == '소매':\n",
        "        color = \"red\"\n",
        "        \n",
        "    #지도에 동그라미로 데이터 찍기    \n",
        "    folium.CircleMarker([sub_lat,sub_long],color=color,radius = 5, tooltip=title).add_to(m)\n",
        "\n",
        "#한글이 안나오는 오류로 html로 trouble shooting\n",
        "m.save('example.html')\n",
        "m"
      ],
      "execution_count": null,
      "outputs": []
    },
    {
      "cell_type": "markdown",
      "metadata": {
        "id": "418d53Z8Yjgv"
      },
      "source": [
        "## [Python] Folium – 지리정보 시각화"
      ]
    },
    {
      "cell_type": "code",
      "metadata": {
        "id": "ryzdcDT9XmUe"
      },
      "source": [
        "import folium\n",
        "\n",
        "m = folium.Map(\n",
        "    location=[37.5838699,127.0565831],\n",
        "    zoom_start=15\n",
        ")\n",
        "\n",
        "m.save('map.html')"
      ],
      "execution_count": null,
      "outputs": []
    },
    {
      "cell_type": "markdown",
      "metadata": {
        "id": "Jj7sjhMrYzHe"
      },
      "source": [
        "Marker\n",
        "Marker 클래스를 이용하면 특정 위치를 아이콘으로 강조할 수 있다.\n",
        "\n",
        "Icon\n",
        "기본적으로 Glyphicons에서 제공하는 이미지를 이용해 지도 위에 표시할 수 있다."
      ]
    },
    {
      "cell_type": "code",
      "metadata": {
        "id": "_WJHP5KcYn8j"
      },
      "source": [
        "import folium\n",
        "\n",
        "m = folium.Map(\n",
        "    location=[37.5838699,127.0565831],\n",
        "    zoom_start=15\n",
        ")\n",
        "\n",
        "folium.Marker(\n",
        "  location=[37.5838699,127.0565831],\n",
        "  popup='University of Seoul',\n",
        "  icon=folium.Icon(color='red',icon='star')\n",
        ").add_to(m)\n",
        "\n",
        "m.save('map.html')"
      ],
      "execution_count": null,
      "outputs": []
    },
    {
      "cell_type": "code",
      "metadata": {
        "id": "zHA4j9L3Y4Ic"
      },
      "source": [
        "import folium\n",
        "\n",
        "m = folium.Map(\n",
        "    location=[37.5838699,127.0565831],\n",
        "    zoom_start=15\n",
        ")\n",
        "\n",
        "folium.CircleMarker(\n",
        "  [37.5838699,127.0565831],\n",
        "  radius=100,\n",
        "  color='#ffffgg',\n",
        "  fill_color='#fffggg',\n",
        "  popup='University of Seoul'\n",
        ").add_to(m)\n",
        "\n",
        "m.save('map.html')"
      ],
      "execution_count": null,
      "outputs": []
    },
    {
      "cell_type": "code",
      "metadata": {
        "id": "exNfptiyY9-6"
      },
      "source": [
        "import folium\n",
        "import pandas as pd\n",
        "import urllib.request\n",
        "import datetime\n",
        "import time\n",
        "import json\n",
        "import webbrowser\n",
        "\n",
        "#[CODE 1]\n",
        "def get_request_url(url):\n",
        "    req = urllib.request.Request(url)\n",
        "    req.add_header(\"X-Naver-Client-Id\", \"NAVER API ID\")\n",
        "    req.add_header(\"X-Naver-Client-Secret\", \"NAVER API SECRET\")\n",
        "    try:\n",
        "        response = urllib.request.urlopen(req)\n",
        "        if response.getcode() == 200:\n",
        "            print (\"[%s] Url Request Success\" % datetime.datetime.now())\n",
        "            return response.read().decode('utf-8')\n",
        "    except Exception as e:\n",
        "        print(e)\n",
        "        print(\"[%s] Error for URL : %s\" % (datetime.datetime.now(), url))\n",
        "        return None\n",
        "\n",
        "#[CODE 2]\n",
        "def getGeoData(address):\n",
        "    base = \"https://openapi.naver.com/v1/map/geocode\"\n",
        "    \n",
        "    try:\n",
        "        parameters = \"?query=%s\" % urllib.parse.quote(address)\n",
        "    except:\n",
        "        return None\n",
        "    \n",
        "    url = base + parameters\n",
        "    \n",
        "    retData = get_request_url(url)\n",
        "    if retData == None:\n",
        "        return None\n",
        "\n",
        "    jsonAddress = json.loads(retData)\n",
        "\n",
        "    if 'result' in jsonAddress.keys():\n",
        "        latitude = jsonAddress['result']['items'][0]['point']['y']\n",
        "        longitude = jsonAddress['result']['items'][0]['point']['x']\n",
        "    else:\n",
        "        return None\n",
        "    \n",
        "    return [latitude, longitude]\n",
        "\n",
        "def main():\n",
        "   \n",
        "    #[CODE 3]\n",
        "    map = folium.Map(location=[37.5103, 126.982], zoom_start=12)\n",
        "\n",
        "    filename = './dataset/서울시 초등학교 현황.csv'\n",
        "    #df = pd.DataFrame.from_csv(filename, encoding='CP949', index_col=0, header=0)\n",
        "    df = pd.read_csv(filename, encoding='CP949', index_col=0, header=0)\n",
        "    geoData = []\n",
        "    \n",
        "    #[CODE 4]\n",
        "    for index, row in df.iterrows():\n",
        "        geoData = getGeoData(row['주소'])\n",
        "        if geoData != None:\n",
        "            folium.Marker(geoData, popup=row['학교명'], icon=folium.Icon(color='red')).add_to(map)\n",
        "    \n",
        "    svFilename = './dataset/elementary_school.html'\n",
        "    map.save(svFilename)\n",
        "    webbrowser.open(svFilename)  \n",
        "    \n",
        "if __name__ == \"__main__\":\n",
        "    main()"
      ],
      "execution_count": null,
      "outputs": []
    },
    {
      "cell_type": "code",
      "metadata": {
        "id": "wmON2sKybRBf"
      },
      "source": [
        "import pandas as pd\n",
        "import folium\n",
        "import webbrowser\n",
        " \n",
        "# Load the shape of the zone (US states)\n",
        "# Find the original file here: https://github.com/python-visualization/folium/tree/master/examples/data\n",
        "# You have to download this file and set the directory where you saved it\n",
        "state_geo = 'TL_SCCO_SIG_WGS84.json'\n",
        " \n",
        "# Load the unemployment value of each state\n",
        "# Find the original file here: https://github.com/python-visualization/folium/tree/master/examples/data\n",
        "state_unemployment = 'Total_People_2018.csv'\n",
        "state_data = pd.read_csv(state_unemployment, encoding = 'euc-kr')\n",
        " \n",
        "# Initialize the map:\n",
        "m = folium.Map(location=[36, 127], tiles=\"OpenStreetMap\", zoom_start=7)\n",
        " \n",
        "# Add the color for the chloropleth:\n",
        "\n",
        "m.choropleth(\n",
        " geo_data=state_geo,\n",
        " name='choropleth',\n",
        " data=state_data,\n",
        " columns=['Code', 'Population'],\n",
        " key_on='feature.properties.SIG_CD',\n",
        " fill_color='YlGn',\n",
        " fill_opacity=0.7,\n",
        " line_opacity=0.5,\n",
        " legend_name='Population Rate (%)'\n",
        ")\n",
        "\n",
        "folium.LayerControl().add_to(m)\n",
        " \n",
        "# Save to html\n",
        "m.save('folium_kr.html')\n",
        "webbrowser.open_new(\"folium_kr.html\")"
      ],
      "execution_count": null,
      "outputs": []
    },
    {
      "cell_type": "code",
      "metadata": {
        "id": "yaxHbar4fYM0"
      },
      "source": [
        "m = folium.Map(\n",
        "    location=[37.55, 126.98],\n",
        "    zoom_start=8\n",
        ")\n",
        "m\n",
        "\n",
        "#folium.Map.save() 를 통해서 html 파일로 저장 가능"
      ],
      "execution_count": null,
      "outputs": []
    },
    {
      "cell_type": "markdown",
      "metadata": {
        "id": "5PUgIDq_fd4P"
      },
      "source": [
        "## Marker"
      ]
    },
    {
      "cell_type": "code",
      "metadata": {
        "id": "gEQy7DsifZ_-"
      },
      "source": [
        "m = folium.Map(\n",
        "    location=[37.55, 126.98],\n",
        "    zoom_start=8\n",
        ")\n",
        "\n",
        "folium.Marker(\n",
        "    location=[37.55, 126.98],\n",
        "    icon = folium.Icon() # Icon Marker 지정\n",
        ").add_to(m)\n",
        "m"
      ],
      "execution_count": null,
      "outputs": []
    },
    {
      "cell_type": "markdown",
      "metadata": {
        "id": "5UBHCT7Gfpa0"
      },
      "source": [
        " \n",
        "icon에 색상이나 star와 같은 모양을 지정하는 것 또한 가능합니다.\n",
        " \n",
        "https://getbootstrap.com/docs/3.3/components/#glyphicons-glyph\n",
        " \n",
        "위 사이트에 접속하면 marker에 사용할 수 있는 icon을 확인할 수 있습니다.\n",
        "In [6]:"
      ]
    },
    {
      "cell_type": "code",
      "metadata": {
        "id": "Gm0QJYyJfhOQ"
      },
      "source": [
        "m = folium.Map(\n",
        "    location=[37.55, 126.98],\n",
        "    zoom_start=8\n",
        ")\n",
        "\n",
        "folium.Marker(\n",
        "    location=[37.55, 126.98],\n",
        "    icon = folium.Icon(color='red', icon='star') # Icon Marker 지정\n",
        ").add_to(m)\n",
        "m"
      ],
      "execution_count": null,
      "outputs": []
    },
    {
      "cell_type": "markdown",
      "metadata": {
        "id": "Cxn06Rz2ft-O"
      },
      "source": [
        "## popup\n",
        "\n",
        "popup 속성을 통해 문자열을 지정하여 아이콘을 클릭했을 때 팝업의 문구를 지정할 수 있습니다.\n",
        "In [7]:"
      ]
    },
    {
      "cell_type": "code",
      "metadata": {
        "id": "TTMsqH_9fmAb"
      },
      "source": [
        "m = folium.Map(\n",
        "    location=[37.55, 126.98],\n",
        "    zoom_start=8\n",
        ")\n",
        "\n",
        "folium.Marker(\n",
        "    location=[37.55, 126.98],\n",
        "    popup = 'Seoul',\n",
        "    icon = folium.Icon(color='red', icon='star') # Icon Marker 지정\n",
        ").add_to(m)\n",
        "m"
      ],
      "execution_count": null,
      "outputs": []
    },
    {
      "cell_type": "markdown",
      "metadata": {
        "id": "X4qm6sbmf17k"
      },
      "source": [
        "## Circle Marker\n",
        "\n",
        "CircleMarker를 통해 특정 위치를 원형의 마커로 표시할 수 있습니다.\n",
        "In [8]:"
      ]
    },
    {
      "cell_type": "code",
      "metadata": {
        "id": "9zB32Ksyfz2H"
      },
      "source": [
        "m = folium.Map(\n",
        "    location=[37.55, 126.98],\n",
        "    zoom_start=12\n",
        ")\n",
        "\n",
        "folium.Marker(\n",
        "    location=[37.55, 126.98],\n",
        "    popup = 'Seoul',\n",
        "    icon = folium.Icon(color='red', icon='star') # Icon Marker 지정\n",
        ").add_to(m)\n",
        "\n",
        "# CircleMarker\n",
        "folium.CircleMarker(\n",
        "    location=[37.58091849226215, 126.92331631718088],\n",
        "    popup='Myongji Univ.',\n",
        "    radius=20, # CircleMarker 크기 지정\n",
        "    color='blue', # CirclaMarker 테두리 색상\n",
        "    fill_color='#000000' # CircleMarker 내부 색상\n",
        ").add_to(m)\n",
        "m"
      ],
      "execution_count": null,
      "outputs": []
    },
    {
      "cell_type": "markdown",
      "metadata": {
        "id": "JvUY3iVFf-1z"
      },
      "source": [
        "## Marker Cluster\n",
        "\n",
        "MarkerCluster는 가까운 거리의 Marker를 하나의 군집으로 Clustering 하여 시각화하는 방법입니다. Map의 Zoom에 따라 군집의 갯수가 달라지는 interactive한 시각화 방법으로 사용됩니다.\n",
        "In [10]:\n"
      ]
    },
    {
      "cell_type": "code",
      "metadata": {
        "id": "aMv3tfYchARZ"
      },
      "source": [
        "ls -l"
      ],
      "execution_count": null,
      "outputs": []
    },
    {
      "cell_type": "code",
      "metadata": {
        "id": "Qkpi4dorf8q3"
      },
      "source": [
        "import pandas as pd\n",
        "\n",
        "df = pd.read_csv('./dataset/소상공인시장진흥공단_상가(상권)정보_서울_20200630.csv',sep='|')\n",
        "starbucks = df[df['상호명'].str.contains('스타벅스|starbucks|STARBUCKS', na=False)]"
      ],
      "execution_count": null,
      "outputs": []
    },
    {
      "cell_type": "code",
      "metadata": {
        "id": "ZDpACXeWgLW0"
      },
      "source": [
        "m = folium.Map(\n",
        "    location=[37.55, 126.98],\n",
        "    zoom_start=10\n",
        ")\n",
        "\n",
        "latlong = starbucks[['위도', '경도']]\n",
        "\n",
        "from folium.plugins import MarkerCluster\n",
        "marker_cluster = MarkerCluster().add_to(m)\n",
        "\n",
        "for lat, long in zip(latlong.위도, latlong.경도):\n",
        "    folium.Marker([lat,long], icon = folium.Icon(color=\"green\")).add_to(marker_cluster)\n",
        "\n",
        "m"
      ],
      "execution_count": null,
      "outputs": []
    },
    {
      "cell_type": "markdown",
      "metadata": {
        "id": "WbCDg5iegRdO"
      },
      "source": [
        "## GeoJson\n",
        "\n",
        "GeoJson을 이용하면 다각형을 표현할 수 있는데 이것을 통해 행정구역과 같은 경계선을 표현하는데 효과적입니다.\n",
        "In [12]:"
      ]
    },
    {
      "cell_type": "code",
      "metadata": {
        "id": "2JfZLiFpgQk8"
      },
      "source": [
        "m = folium.Map(\n",
        "    location=[37.55, 126.98],\n",
        "    zoom_start=10\n",
        ")\n",
        "\n",
        "latlong = starbucks[['위도', '경도']]\n",
        "\n",
        "from folium.plugins import MarkerCluster\n",
        "marker_cluster = MarkerCluster().add_to(m)\n",
        "\n",
        "for lat, long in zip(latlong.위도, latlong.경도):\n",
        "    folium.Marker([lat,long], icon = folium.Icon(color=\"green\")).add_to(marker_cluster)\n",
        "\n",
        "# GeoJson 코드\n",
        "import json\n",
        "with open('./dataset/seoul_municipalities_geo.json',mode='rt',encoding='utf-8') as f:\n",
        "    geo = json.loads(f.read())\n",
        "    f.close()\n",
        "    \n",
        "folium.GeoJson(\n",
        "    geo,\n",
        "    name='seoul_municipalities'\n",
        ").add_to(m)\n",
        "\n",
        "m"
      ],
      "execution_count": null,
      "outputs": []
    },
    {
      "cell_type": "code",
      "metadata": {
        "id": "VCDxxjfDhYtL"
      },
      "source": [
        "ls -l ./dataset/"
      ],
      "execution_count": null,
      "outputs": []
    },
    {
      "cell_type": "markdown",
      "metadata": {
        "id": "R7xtdnOJj8Qf"
      },
      "source": [
        "## 1. 엑셀 데이터 불러오기 및 특정 컬럼 추출"
      ]
    },
    {
      "cell_type": "code",
      "metadata": {
        "id": "qKGkdzAol1ZK"
      },
      "source": [
        "pip install pyproj"
      ],
      "execution_count": null,
      "outputs": []
    },
    {
      "cell_type": "code",
      "metadata": {
        "id": "o9X3Cm3bl768"
      },
      "source": [
        "pip install geopandas"
      ],
      "execution_count": null,
      "outputs": []
    },
    {
      "cell_type": "markdown",
      "metadata": {
        "id": "PFBVWYyy9bpS"
      },
      "source": [
        "# [python, folium] 서울 따릉이 대여소 지도 시각화"
      ]
    },
    {
      "cell_type": "markdown",
      "metadata": {
        "id": "P4QVtIiu9UnZ"
      },
      "source": [
        "## 1. 엑셀 데이터 불러오기 및 특정 컬럼 추출"
      ]
    },
    {
      "cell_type": "markdown",
      "metadata": {
        "id": "WFTqDuyT9nvH"
      },
      "source": [
        "#### 따릉이 대여소 좌표 데이트는 여기서 받은 : data.seoul.go.kr/dataList/OA-13252/F/1/datasetView.do "
      ]
    },
    {
      "cell_type": "code",
      "metadata": {
        "id": "w83722P1iH9W"
      },
      "source": [
        "from pyproj import Transformer\n",
        "import pyproj\n",
        "import numpy as np\n",
        "import pandas  as pd\n",
        "from shapely.geometry import Point as point\n",
        "import geopandas as gpd\n",
        "import folium\n",
        "\n",
        "\n",
        "bike = pd.read_csv('./dataset/공공자전거 대여소 정보(21.01.31 기준).csv',encoding='cp949') # 해당 엑셀 파일 불러오기"
      ],
      "execution_count": null,
      "outputs": []
    },
    {
      "cell_type": "code",
      "metadata": {
        "id": "7NAjnL4b4Elq"
      },
      "source": [
        "bike.head()"
      ],
      "execution_count": null,
      "outputs": []
    },
    {
      "cell_type": "code",
      "metadata": {
        "id": "4DlWmNqzFR9h"
      },
      "source": [
        "type(bike)"
      ],
      "execution_count": null,
      "outputs": []
    },
    {
      "cell_type": "code",
      "metadata": {
        "id": "CD9h39SC4fcC"
      },
      "source": [
        "bike = bike.rename({'대여소\\n번호':'대여소ID','Unnamed: 3':'상세주소', 'Unnamed: 4':'위도', 'Unnamed: 5':'경도'}, axis='columns')"
      ],
      "execution_count": null,
      "outputs": []
    },
    {
      "cell_type": "code",
      "metadata": {
        "id": "rD8BWQDY4iyV"
      },
      "source": [
        "bike"
      ],
      "execution_count": null,
      "outputs": []
    },
    {
      "cell_type": "code",
      "metadata": {
        "id": "LYfY111o4Zd0"
      },
      "source": [
        "bike = bike.dropna(subset=['대여소ID','위도', '경도'])"
      ],
      "execution_count": null,
      "outputs": []
    },
    {
      "cell_type": "code",
      "metadata": {
        "id": "QqmcIeSt4rOA"
      },
      "source": [
        "bike"
      ],
      "execution_count": null,
      "outputs": []
    },
    {
      "cell_type": "code",
      "metadata": {
        "id": "Ig3vKVCnmsgT"
      },
      "source": [
        "bike = bike.drop(index=1, axis=0)\n",
        "bike.head()"
      ],
      "execution_count": null,
      "outputs": []
    },
    {
      "cell_type": "code",
      "metadata": {
        "id": "qQt31C1o47Ox"
      },
      "source": [
        "bike.reset_index(inplace=True)"
      ],
      "execution_count": null,
      "outputs": []
    },
    {
      "cell_type": "code",
      "metadata": {
        "id": "sWGSRxtQ4_AJ"
      },
      "source": [
        "bike.head()"
      ],
      "execution_count": null,
      "outputs": []
    },
    {
      "cell_type": "code",
      "metadata": {
        "id": "bbNJy68cvGDS"
      },
      "source": [
        "bike.drop('index', axis=1, inplace=True)\n",
        "bike"
      ],
      "execution_count": null,
      "outputs": []
    },
    {
      "cell_type": "code",
      "metadata": {
        "id": "OvJdiVecpTQr"
      },
      "source": [
        "bike.info()"
      ],
      "execution_count": null,
      "outputs": []
    },
    {
      "cell_type": "code",
      "metadata": {
        "id": "fGkSAJMQpalA"
      },
      "source": [
        "bike['경도'] = bike['경도'].astype(float)\n",
        "bike['위도'] = bike['위도'].astype(float)"
      ],
      "execution_count": null,
      "outputs": []
    },
    {
      "cell_type": "code",
      "metadata": {
        "id": "1rlJO72eu9SQ"
      },
      "source": [
        "bike"
      ],
      "execution_count": null,
      "outputs": []
    },
    {
      "cell_type": "code",
      "metadata": {
        "id": "eEGLz4hC5hqa"
      },
      "source": [
        "bike['위도'].isnull().sum()"
      ],
      "execution_count": null,
      "outputs": []
    },
    {
      "cell_type": "code",
      "metadata": {
        "id": "u_BEPyYk208m"
      },
      "source": [
        "#bike = bike.dropna(subset=['위도', '경도'])"
      ],
      "execution_count": null,
      "outputs": []
    },
    {
      "cell_type": "code",
      "metadata": {
        "id": "8yCHNeSgmSvv"
      },
      "source": [
        "bike_id = bike['대여소ID']\n",
        "bike_x = bike['위도']\n",
        "bike_y = bike['경도']"
      ],
      "execution_count": null,
      "outputs": []
    },
    {
      "cell_type": "code",
      "metadata": {
        "id": "u0DbXRr4tvPN"
      },
      "source": [
        "bike_x.isnull().sum()"
      ],
      "execution_count": null,
      "outputs": []
    },
    {
      "cell_type": "code",
      "metadata": {
        "id": "DvzXAwtvtwEF"
      },
      "source": [
        "bike_y.isnull().sum()"
      ],
      "execution_count": null,
      "outputs": []
    },
    {
      "cell_type": "code",
      "metadata": {
        "id": "BExVrpkF3Zaw"
      },
      "source": [
        "bike"
      ],
      "execution_count": null,
      "outputs": []
    },
    {
      "cell_type": "markdown",
      "metadata": {
        "id": "8o9i5iaRtO2B"
      },
      "source": [
        "## 2. 죄표계 변환 후.shp로 보내기"
      ]
    },
    {
      "cell_type": "code",
      "metadata": {
        "id": "eFMAFI1zlxgq"
      },
      "source": [
        "# Case 1\n",
        "\n",
        "'''\n",
        "- x, y 좌표와 대여소ID를 받아서 dict 형태로 만들고 \n",
        "- x, y 좌표를 QGIS 지도 좌표계에 맞게 변환 (to EPSG:3857)\n",
        "- 후에 point들을 .shp로 내보내기 \n",
        "'''\n",
        "\n",
        "TRAN_4326_TO_3857 = Transformer.from_crs(\"EPSG:4326\", \"EPSG:3857\") # EPSG:3857좌표계로 변환\n",
        "\t# \"ESPG:3857\"을 다른 좌표계로 바꾸면 무한하게 응용 가능\n",
        "\n",
        "points = []\n",
        "ttareung = []\n",
        "print(len(bike))\n",
        "for i in range(len(bike)-1): # 마지막 인덱스에 NaN이 존재해서 -1\n",
        "\n",
        "    idx = bike_id[i]\n",
        "    x_coord = bike_x[i]\n",
        "    y_coord = bike_y[i]\n",
        "    \n",
        "    xx, yy = TRAN_4326_TO_3857.transform(x_coord, y_coord) # 변환하는 과정\n",
        "    bike_dict = {'ID': idx, 'x_coord': xx, 'y_coord': yy}\n",
        "    \n",
        "    if i % 20 == 0: \n",
        "        print(f'{i}th station is working...')\n",
        "    \n",
        "    points.append(point(xx, yy))\n",
        "    ttareung.append(bike_dict)\n",
        "\n",
        "points = gpd.GeoDataFrame(geometry = points)\n",
        "points.to_file('./dataset/tta_points.shp', driver=\"Shapefile\")"
      ],
      "execution_count": null,
      "outputs": []
    },
    {
      "cell_type": "markdown",
      "metadata": {
        "id": "QA1hH3ooteaQ"
      },
      "source": [
        "## 3. Folium을 활용한 지도 시각화"
      ]
    },
    {
      "cell_type": "code",
      "metadata": {
        "id": "pPaO97g4zKHW"
      },
      "source": [
        "bike"
      ],
      "execution_count": null,
      "outputs": []
    },
    {
      "cell_type": "code",
      "metadata": {
        "id": "hFLaTKny1kZm"
      },
      "source": [
        "bike.isnull().sum()\n"
      ],
      "execution_count": null,
      "outputs": []
    },
    {
      "cell_type": "code",
      "metadata": {
        "id": "U3QuZEUHtYQw"
      },
      "source": [
        "# Case 2\n",
        "'''\n",
        "- x, y 좌표를 받아서 좌표계 변환 없이 m.html에 시각화하기 \n",
        "'''\n",
        "#지도의 중심을 지정하기 위해 위도와 경도의 평균 구하기\n",
        "lat = bike['위도'].mean()\n",
        "long = bike['경도'].mean()\n",
        "\n",
        "#지도 띄우기\n",
        "m = folium.Map([lat, long], zoom_start = 9)\n",
        "\n",
        "coords = []\n",
        "for i in range(len(bike)-1):\n",
        "    x = bike_x[i]\n",
        "    y = bike_y[i]\n",
        "    coords.append([x, y])\n",
        "print(len(coords))\n",
        "for i in range(len(coords)):\n",
        "    folium.Circle(\n",
        "        location = coords[i],\n",
        "        radius = 50,\n",
        "        color = '#000000',\n",
        "        fill = 'crimson',\n",
        "    ).add_to(m)\n",
        "\n",
        "m.save('./dataset/tta_points.html')"
      ],
      "execution_count": null,
      "outputs": []
    },
    {
      "cell_type": "code",
      "metadata": {
        "id": "vXXyuR20od4W"
      },
      "source": [
        "m"
      ],
      "execution_count": null,
      "outputs": []
    },
    {
      "cell_type": "code",
      "metadata": {
        "id": "dupKcZhdto9O"
      },
      "source": [
        "pwd"
      ],
      "execution_count": null,
      "outputs": []
    },
    {
      "cell_type": "code",
      "metadata": {
        "id": "Hp6qX5F77qFQ"
      },
      "source": [
        "ls -l"
      ],
      "execution_count": null,
      "outputs": []
    },
    {
      "cell_type": "markdown",
      "metadata": {
        "id": "PGx4trWS-JBC"
      },
      "source": [
        "## [Python] folium 을 이용하여 서울시 동별 인구 수 시각화하기"
      ]
    },
    {
      "cell_type": "markdown",
      "metadata": {
        "id": "NDCwKTuf-a-F"
      },
      "source": [
        "#### 1. 사용할 패키지 들을 import 합니다."
      ]
    },
    {
      "cell_type": "code",
      "metadata": {
        "id": "N_6VsTXA7r38"
      },
      "source": [
        "import json\n",
        "import folium\n",
        "import pandas as pd"
      ],
      "execution_count": null,
      "outputs": []
    },
    {
      "cell_type": "markdown",
      "metadata": {
        "id": "IgGE5zUj-gkB"
      },
      "source": [
        "#### 2. 지도를 그릴때 사용할 json 파일을 불러 옵니다."
      ]
    },
    {
      "cell_type": "markdown",
      "metadata": {
        "id": "ImffPLO1-nLR"
      },
      "source": [
        "'''\n",
        "이 json 파일은 https://github.com/southkorea/southkorea-maps 이곳에 있는\n",
        "https://raw.githubusercontent.com/southkorea/southkorea-maps/master/kostat/2013/json/skorea_submunicipalities_geo_simple.json\n",
        "이 json 파일을 조금 수정하여 사용하였습니다.\n",
        "\n",
        "위의 json 파일은 전국의 모든 동의 위치 정보를 담고 있습니다.\n",
        "따라서, 서울에 존재하는 동의 위치정보만 따로 가져와서 사용하였습니다.\n",
        "'''"
      ]
    },
    {
      "cell_type": "code",
      "metadata": {
        "id": "OY4eGahx-Zri"
      },
      "source": [
        "geo_path = './dataset/skorea_submunicipalities_geo_simple.json'\n",
        "geo_str = json.load(open(geo_path, encoding='utf-8'))\n",
        "#geo_str"
      ],
      "execution_count": null,
      "outputs": []
    },
    {
      "cell_type": "markdown",
      "metadata": {
        "id": "MTZrFDk9_n0v"
      },
      "source": [
        "## 3. 지도에 표시할 서울시 동별 인구데이터를 불러옵니다.\n",
        "\n",
        "#### 서울시 동별 인구데이터는 아래와같이 dong, counts라는 컬럼을 갖고 있으며,\n",
        "dong은 서울시 행정동코드를 의미합니다.\n",
        "counts는 인구수를 의미합니다. ( 실제 인구수와 다를 수 있습니다. 그냥 하나의 sample데이터라고 생각해 주세요. )\n",
        "아래와 같이 엑셀파일에 저장되어 있습니다. "
      ]
    },
    {
      "cell_type": "code",
      "metadata": {
        "id": "TgshgqD1DWYn"
      },
      "source": [
        "dongData = pd.read_csv('./dataset/2020년_서울시_동별_인구.csv', encoding='cp949')\n",
        "dongData.head()"
      ],
      "execution_count": null,
      "outputs": []
    },
    {
      "cell_type": "code",
      "metadata": {
        "id": "59DviQ_sEmlb"
      },
      "source": [
        "dongData['2020년_총인구수'].head()"
      ],
      "execution_count": null,
      "outputs": []
    },
    {
      "cell_type": "code",
      "metadata": {
        "id": "X7dhmtXOFJPc"
      },
      "source": [
        "type(dongData)"
      ],
      "execution_count": null,
      "outputs": []
    },
    {
      "cell_type": "code",
      "metadata": {
        "id": "Bc6MxJ-6EKjt"
      },
      "source": [
        "dongData = dongData.rename({'행정구역':'dong', '2020년_총인구수':'counts'}, axis='columns')\n",
        "dongData.head()"
      ],
      "execution_count": null,
      "outputs": []
    },
    {
      "cell_type": "code",
      "metadata": {
        "id": "7qLpJ0CDFopV"
      },
      "source": [
        "dongData = dongData.drop(index=0, axis=0)\n",
        "dongData.head()"
      ],
      "execution_count": null,
      "outputs": []
    },
    {
      "cell_type": "code",
      "metadata": {
        "id": "MwrgUbedWb2O"
      },
      "source": [
        "dongData['dong'] = dongData['dong'].str[-10:-1] #.split(' ')\n",
        "dongData.head()"
      ],
      "execution_count": null,
      "outputs": []
    },
    {
      "cell_type": "code",
      "metadata": {
        "id": "nW2ep6OrgnZn"
      },
      "source": [
        "dongData.reset_index(inplace=True)\n",
        "dongData.head()"
      ],
      "execution_count": null,
      "outputs": []
    },
    {
      "cell_type": "code",
      "metadata": {
        "id": "F-N2KLLihz6O"
      },
      "source": [
        "dongData.head()"
      ],
      "execution_count": null,
      "outputs": []
    },
    {
      "cell_type": "code",
      "metadata": {
        "id": "01t9R_bAg4yl"
      },
      "source": [
        "dongData.drop('index', axis=1, inplace=True)\n",
        "dongData.head()"
      ],
      "execution_count": null,
      "outputs": []
    },
    {
      "cell_type": "code",
      "metadata": {
        "id": "hTm1lggu--eR"
      },
      "source": [
        "for i in range(len(dongData)):\n",
        "    dongData.loc[i, \"dong\"] = str(dongData.loc[i, \"dong\"])\n",
        "dongData.head()"
      ],
      "execution_count": null,
      "outputs": []
    },
    {
      "cell_type": "markdown",
      "metadata": {
        "id": "0Vo8ACD6FuvY"
      },
      "source": [
        "## 4. folium 패키지를 이용하여 Map을 생성합니다."
      ]
    },
    {
      "cell_type": "code",
      "metadata": {
        "id": "j4bcquMycQFO"
      },
      "source": [
        "dongData.isnull().sum()"
      ],
      "execution_count": null,
      "outputs": []
    },
    {
      "cell_type": "code",
      "metadata": {
        "id": "HdmWo2_rdUZG"
      },
      "source": [
        "dongData.info()"
      ],
      "execution_count": null,
      "outputs": []
    },
    {
      "cell_type": "code",
      "metadata": {
        "id": "ICEdWVryiM5f"
      },
      "source": [
        "dongData.head()"
      ],
      "execution_count": null,
      "outputs": []
    },
    {
      "cell_type": "code",
      "metadata": {
        "id": "5qKknAnedemJ"
      },
      "source": [
        "dongData['counts'] = dongData['counts'].str.replace(',','')\n",
        "dongData['counts'] = dongData['counts'].astype(int)\n",
        "dongData.head()"
      ],
      "execution_count": null,
      "outputs": []
    },
    {
      "cell_type": "code",
      "metadata": {
        "id": "TSlOyzibfSbP"
      },
      "source": [
        "#dongData['dong'] = dongData['dong'].astype(int)\n",
        "dongData.info()"
      ],
      "execution_count": null,
      "outputs": []
    },
    {
      "cell_type": "code",
      "metadata": {
        "id": "eU_oo2TfCRus"
      },
      "source": [
        "seoul_map = folium.Map(location=[37.5502, 126.982], zoom_start=10.5, tiles='cartodbpositron')\n",
        "seoul_map.choropleth(geo_data=geo_str,\n",
        "                     data=dongData,\n",
        "                     columns=['dong', 'counts'],\n",
        "                     fill_color='YlGn', #'PuRd',\n",
        "                     key_on='properties.code',\n",
        "                     highlight=True,\n",
        "                     fill_opacity=0.5, line_opacity=1,\n",
        "                     legend_name='population(people)')"
      ],
      "execution_count": null,
      "outputs": []
    },
    {
      "cell_type": "markdown",
      "metadata": {
        "id": "88hvlYBsGlTB"
      },
      "source": [
        "## 5. 생성한 map을 html 파일로 저장하고, 화면에 출력합니다."
      ]
    },
    {
      "cell_type": "code",
      "metadata": {
        "id": "KkzQdLYCGkwN"
      },
      "source": [
        "seoul_map.save('seoul_map.html')\n",
        "seoul_map"
      ],
      "execution_count": null,
      "outputs": []
    },
    {
      "cell_type": "markdown",
      "metadata": {
        "id": "qzYsw6dPjckO"
      },
      "source": [
        "## folium 으로 지도 시작화하기 with python"
      ]
    },
    {
      "cell_type": "markdown",
      "metadata": {
        "id": "g0XkFS1pjh9B"
      },
      "source": [
        "#### 시군구별 총수입금액평균을 folium으로 시각화 해 보았습니다."
      ]
    },
    {
      "cell_type": "markdown",
      "metadata": {
        "id": "NRaXf4mUmVCF"
      },
      "source": [
        "#### fill_color = 'BuGn', 'BuPu', 'GnBu', 'OrRd', 'PuBu', 'PuBuGn', 'PuRd', 'RdPu', 'YlGn', 'YlGnBu', 'YlOrBr', 'YlOrRd'"
      ]
    },
    {
      "cell_type": "code",
      "metadata": {
        "id": "gOLzTWIaew6u"
      },
      "source": [
        "import webbrowser\n",
        "import folium, json\n",
        "import pandas as pd\n",
        "\n",
        "m = folium.Map(location=[36, 127], tiles=\"OpenStreetMap\", zoom_start=8)\n",
        "geo_data = json.load(open('./dataset/skorea_municipalities_geo_simple.json', encoding='utf-8'))\n",
        "\n",
        "df = pd.read_csv('./dataset/ddd.csv', encoding='utf-8', dtype={'code':'str'})\n",
        "folium.Choropleth(geo_data=geo_data,\n",
        "                  data = df,\n",
        "                  columns=['sigun', 'avg_income'],\n",
        "                  key_on='feature.properties.name',\n",
        "                  fill_color='YlGn', #OrRd, PuBu, PuBuGn, GnBu, BuPu, BuGn, PuBuGn, PuRd, RdPu, YlGn, YlGnBu, YlOrBr, YlOrRd\n",
        "                  fill_opacity=0.8\n",
        "                  ).add_to(m)\n",
        "\n",
        "m.save('folium_kr.html')\n",
        "webbrowser.open_new(\"folium_kr.html\")"
      ],
      "execution_count": null,
      "outputs": []
    },
    {
      "cell_type": "code",
      "metadata": {
        "id": "QwoBx9uboOpG"
      },
      "source": [
        "m"
      ],
      "execution_count": null,
      "outputs": []
    },
    {
      "cell_type": "code",
      "metadata": {
        "id": "zzUiQceYjyW2"
      },
      "source": [
        "pwd"
      ],
      "execution_count": null,
      "outputs": []
    }
  ]
}